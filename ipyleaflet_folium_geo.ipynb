{
 "cells": [
  {
   "cell_type": "code",
   "execution_count": null,
   "id": "vital-london",
   "metadata": {},
   "outputs": [],
   "source": [
    "!pip install pandas\n",
    "!pip install ipyleaflet\n",
    "!pip install ipywidgets"
   ]
  },
  {
   "cell_type": "markdown",
   "id": "swiss-trace",
   "metadata": {},
   "source": [
    "## 2.1. Карта точек WiFi"
   ]
  },
  {
   "cell_type": "code",
   "execution_count": null,
   "id": "nutritional-philippines",
   "metadata": {},
   "outputs": [],
   "source": [
    "import pandas as pd"
   ]
  },
  {
   "cell_type": "code",
   "execution_count": null,
   "id": "negative-lloyd",
   "metadata": {},
   "outputs": [],
   "source": [
    "file_name = 'https://raw.githubusercontent.com/tttdddnet/Python-Jupyter-Geo/main/data-9776-2020-12-21.csv'\n",
    "df = pd.read_csv(file_name, sep=';', encoding='cp1251')"
   ]
  },
  {
   "cell_type": "code",
   "execution_count": null,
   "id": "artistic-grave",
   "metadata": {},
   "outputs": [],
   "source": [
    "wifi_points = []\n",
    "i = 0\n",
    "while i < len(df.index):\n",
    "    wifi_points.append({'index': i, 'Coordinates': [df['Latitude_WGS84'][i], df['Longitude_WGS84'][i]], 'Location': df['Location'][i], 'NumberOfAccessPoints': df['NumberOfAccessPoints'][i]})\n",
    "    i += 1\n",
    "\n",
    "marker_coordinates = [wifi['Coordinates'] for wifi in wifi_points]\n",
    "marker_coordinates = [[float(x) for x in y] for y in marker_coordinates]"
   ]
  },
  {
   "cell_type": "code",
   "execution_count": null,
   "id": "capable-heating",
   "metadata": {
    "scrolled": false
   },
   "outputs": [],
   "source": [
    "from ipywidgets import HTML\n",
    "from ipyleaflet import Map, Marker, Popup\n",
    "\n",
    "m = Map(center=(55.753215, 37.622504), zoom=11)\n",
    "\n",
    "markers = [Marker(location=(marker_coordinates[i])) for i in range(len(marker_coordinates))]\n",
    "\n",
    "info_box_template = \"\"\"\n",
    "<dl>\n",
    "<dt>Адрес:</dt><dd>{Location}</dd>\n",
    "<dt>Количество точек доступа:</dt><dd>{NumberOfAccessPoints}</dd>\n",
    "</dl>\n",
    "\"\"\"\n",
    "\n",
    "locations_info  = [info_box_template.format(**point) for point in wifi_points]\n",
    "\n",
    "for i in range(len(markers)):\n",
    "    markers[i].popup = HTML(locations_info[i])\n",
    "    m.add_layer(markers[i])\n",
    "\n",
    "m"
   ]
  },
  {
   "cell_type": "markdown",
   "id": "british-lemon",
   "metadata": {},
   "source": [
    "## 2.2. Маршрут марафона"
   ]
  },
  {
   "cell_type": "code",
   "execution_count": null,
   "id": "accredited-generator",
   "metadata": {},
   "outputs": [],
   "source": [
    "from ipyleaflet import AntPath, WidgetControl\n",
    "from ipywidgets import IntSlider, jslink\n",
    "\n",
    "m = Map(center=(55.718148, 37.555493), zoom=13)\n",
    "\n",
    "marathon_path = AntPath(\n",
    "    locations=[\n",
    "        [55.717435, 37.561014], [55.712517, 37.569324], [55.712412, 37.569479],\n",
    "        [55.711333, 37.561858], [55.711344, 37.558516], [55.712049, 37.553513],\n",
    "        [55.713216, 37.550191], [55.71523, 37.54681], [55.717366, 37.544289],\n",
    "        [55.719874, 37.542966], [55.721958, 37.542939], [55.723928, 37.543701], \n",
    "        [55.725656, 37.545167], [55.7267, 37.546673], [55.727594, 37.54923], \n",
    "        [55.727481, 37.549349], [55.727053, 37.547923], [55.726619, 37.546807], \n",
    "        [55.724107, 37.549236], [55.723902, 37.549511], [55.720267, 37.5558]\n",
    "    ],\n",
    "    dash_array=[1, 10],\n",
    "    delay=1000,\n",
    "    color='#9500ff',\n",
    "    pulse_color='#9500ff'\n",
    ")\n",
    "\n",
    "m.add_layer(marathon_path)\n",
    "\n",
    "start_marker = Marker(location=(55.717435, 37.561014))\n",
    "m.add_layer(start_marker)\n",
    "\n",
    "finish_marker = Marker(location=(55.720267, 37.5558))\n",
    "m.add_layer(finish_marker)\n",
    "\n",
    "start = HTML()\n",
    "finish = HTML()\n",
    "start.value = \"Старт\"                                                                      \n",
    "finish.value = \"Финиш!\"                                                                      \n",
    "start_marker.popup = start\n",
    "finish_marker.popup = finish\n",
    "\n",
    "zoom_slider = IntSlider(description='Масштаб:', min=11, max=15, value=14)\n",
    "jslink((zoom_slider, 'value'), (m, 'zoom'))\n",
    "widget_control1 = WidgetControl(widget=zoom_slider, position='topright')\n",
    "m.add_control(widget_control1)\n",
    "\n",
    "m"
   ]
  },
  {
   "cell_type": "markdown",
   "id": "organizational-genome",
   "metadata": {},
   "source": [
    "## 2.3. Маршрут марафона с иконками AwesomeIcon"
   ]
  },
  {
   "cell_type": "code",
   "execution_count": null,
   "id": "intermediate-rates",
   "metadata": {
    "scrolled": false
   },
   "outputs": [],
   "source": [
    "from ipyleaflet import AwesomeIcon\n",
    "\n",
    "m = Map(center=(55.718148, 37.555493), zoom=14)\n",
    "\n",
    "marathon_path = AntPath(\n",
    "    locations=[\n",
    "        [55.717435, 37.561014], [55.712517, 37.569324], [55.712412, 37.569479],\n",
    "        [55.711333, 37.561858], [55.711344, 37.558516], [55.712049, 37.553513],\n",
    "        [55.713216, 37.550191], [55.71523, 37.54681], [55.717366, 37.544289],\n",
    "        [55.719874, 37.542966], [55.721958, 37.542939], [55.723928, 37.543701], \n",
    "        [55.725656, 37.545167], [55.7267, 37.546673], [55.727594, 37.54923], \n",
    "        [55.727481, 37.549349], [55.727053, 37.547923], [55.726619, 37.546807], \n",
    "        [55.724107, 37.549236], [55.723902, 37.549511], [55.720267, 37.5558]\n",
    "    ],\n",
    "    dash_array=[1, 10],\n",
    "    delay=1000,\n",
    "    color='#9500ff',\n",
    "    pulse_color='#9500ff'\n",
    ")\n",
    "\n",
    "m.add_layer(marathon_path)\n",
    "\n",
    "start_icon = AwesomeIcon(\n",
    "    name='fa-play',\n",
    "    marker_color='green',\n",
    "    icon_color='white'\n",
    ")\n",
    "\n",
    "start_marker = Marker(icon=start_icon, location=(55.717435, 37.561014))\n",
    "start = HTML()\n",
    "start.value = \"Старт\"   \n",
    "start_marker.popup = start\n",
    "m.add_layer(start_marker)\n",
    "\n",
    "finish_icon = AwesomeIcon(\n",
    "    name='fa-stop',\n",
    "    marker_color='blue',\n",
    "    icon_color='black'\n",
    ")\n",
    "\n",
    "finish_marker = Marker(icon=finish_icon, location=(55.720267, 37.5558))\n",
    "finish = HTML()                                                                 \n",
    "finish.value = \"Финиш!\"                                                                      \n",
    "finish_marker.popup = finish\n",
    "m.add_layer(finish_marker)\n",
    "\n",
    "zoom_slider = IntSlider(description='Масштаб:', min=11, max=15, value=14)\n",
    "jslink((zoom_slider, 'value'), (m, 'zoom'))\n",
    "widget_control1 = WidgetControl(widget=zoom_slider, position='topright')\n",
    "m.add_control(widget_control1)\n",
    "\n",
    "m"
   ]
  },
  {
   "cell_type": "markdown",
   "id": "chronic-bleeding",
   "metadata": {},
   "source": [
    "## 2.4. Маршрут марафона с собственными иконками"
   ]
  },
  {
   "cell_type": "code",
   "execution_count": null,
   "id": "generous-audit",
   "metadata": {
    "scrolled": false
   },
   "outputs": [],
   "source": [
    "from ipyleaflet import Icon\n",
    "from ipywidgets import IntSlider\n",
    "\n",
    "m = Map(center=(55.718148, 37.555493), zoom=14)\n",
    "\n",
    "ant_path = AntPath(\n",
    "    locations=[\n",
    "        [55.717435, 37.561014], [55.712517, 37.569324], [55.712412, 37.569479],\n",
    "        [55.711333, 37.561858], [55.711344, 37.558516], [55.712049, 37.553513],\n",
    "        [55.713216, 37.550191], [55.71523, 37.54681], [55.717366, 37.544289],\n",
    "        [55.719874, 37.542966], [55.721958, 37.542939], [55.723928, 37.543701], \n",
    "        [55.725656, 37.545167], [55.7267, 37.546673], [55.727594, 37.54923], \n",
    "        [55.727481, 37.549349], [55.727053, 37.547923], [55.726619, 37.546807], \n",
    "        [55.724107, 37.549236], [55.723902, 37.549511], [55.720267, 37.5558]\n",
    "    ],\n",
    "    dash_array=[1, 10],\n",
    "    delay=1000,\n",
    "    color='#9500ff',\n",
    "    pulse_color='#9500ff'\n",
    ")\n",
    "\n",
    "m.add_layer(ant_path)\n",
    "\n",
    "start_icon = Icon(icon_url='https://raw.githubusercontent.com/tttdddnet/Python-Jupyter-Geo/5d6126a97905792c584b1f9e18cd8dd767ba2966/start.png', icon_size=[97, 36])\n",
    "start_marker = Marker(icon=start_icon, location=(55.717435, 37.561014))\n",
    "start = HTML()\n",
    "start.value = \"Старт\"   \n",
    "start_marker.popup = start\n",
    "m.add_layer(start_marker)\n",
    "\n",
    "finish_icon = Icon(icon_url='https://raw.githubusercontent.com/tttdddnet/Python-Jupyter-Geo/5d6126a97905792c584b1f9e18cd8dd767ba2966/finish.png', icon_size=[97, 36])\n",
    "\n",
    "finish_marker = Marker(icon=finish_icon, location=(55.720267, 37.5558))\n",
    "finish = HTML()                                                                 \n",
    "finish.value = \"Финиш!\"                                                                      \n",
    "finish_marker.popup = finish\n",
    "m.add_layer(finish_marker)\n",
    "\n",
    "zoom_slider = IntSlider(description='Масштаб:', min=11, max=17, value=14)\n",
    "jslink((zoom_slider, 'value'), (m, 'zoom'))\n",
    "widget_control1 = WidgetControl(widget=zoom_slider, position='topright')\n",
    "m.add_control(widget_control1)\n",
    "\n",
    "m"
   ]
  },
  {
   "cell_type": "markdown",
   "id": "optical-helena",
   "metadata": {},
   "source": [
    "## 2.5. Карта 85 субъектов РФ"
   ]
  },
  {
   "cell_type": "code",
   "execution_count": null,
   "id": "actual-number",
   "metadata": {
    "scrolled": false
   },
   "outputs": [],
   "source": [
    "import os\n",
    "import json\n",
    "import random\n",
    "import requests\n",
    "from ipyleaflet import GeoJSON\n",
    "\n",
    "def load_data(url, filename, file_type):\n",
    "    r = requests.get(url)\n",
    "    with open(filename, 'w') as f:\n",
    "        f.write(r.content.decode(\"utf-8\"))\n",
    "    with open(filename, 'r') as f:\n",
    "        return file_type(f)\n",
    "\n",
    "data = load_data(\n",
    "    'https://raw.githubusercontent.com/tttdddnet/Python-Jupyter-Geo/main/geo_ru.json',\n",
    "    'geo_ru.json',\n",
    "     json.load)    \n",
    "\n",
    "def random_color(feature):\n",
    "    return {\n",
    "        'color': 'black',\n",
    "        'fillColor': random.choice(['red', 'yellow', '#efed69', '#fcba03', '#9900ff', '#00ff15', '#db2751', '#00ff95']),\n",
    "    }\n",
    "\n",
    "m = Map(center=(66.25, 94.15), zoom=3)\n",
    "\n",
    "geo_json = GeoJSON(\n",
    "    data=data,\n",
    "    style={\n",
    "        'opacity': 1, 'dashArray': '9', 'fillOpacity': 0.2, 'weight': 1\n",
    "    },\n",
    "    hover_style={\n",
    "        'color': 'white', 'dashArray': '0', 'fillOpacity': 0.7\n",
    "    },\n",
    "    style_callback=random_color\n",
    ")\n",
    "\n",
    "m.add_layer(geo_json)\n",
    "\n",
    "m"
   ]
  },
  {
   "cell_type": "markdown",
   "id": "variable-sellers",
   "metadata": {},
   "source": [
    "## 2.6. Интерактивная карта РФ (по клику)"
   ]
  },
  {
   "cell_type": "code",
   "execution_count": null,
   "id": "precise-judges",
   "metadata": {
    "scrolled": false
   },
   "outputs": [],
   "source": [
    "def load_data(url, filename, file_type):\n",
    "    r = requests.get(url)\n",
    "    with open(filename, 'w') as f:\n",
    "        f.write(r.content.decode(\"utf-8\"))\n",
    "    with open(filename, 'r') as f:\n",
    "        return file_type(f)\n",
    "\n",
    "data = load_data(\n",
    "    'https://raw.githubusercontent.com/tttdddnet/Python-Jupyter-Geo/main/geo_ru.json',\n",
    "    'geo_ru.json',\n",
    "     json.load)    \n",
    "\n",
    "def random_color(feature):\n",
    "    return {\n",
    "        'color': 'black',\n",
    "        'fillColor': random.choice(['red', 'yellow', '#efed69', '#fcba03', '#9900ff', '#00ff15', '#db2751', '#00ff95']),\n",
    "    }\n",
    "\n",
    "m = Map(center=(66.25, 94.15), zoom=3)\n",
    "\n",
    "geo_json = GeoJSON(\n",
    "    data=data,\n",
    "    style={\n",
    "        'opacity': 1, 'dashArray': '9', 'fillOpacity': 0.2, 'weight': 1\n",
    "    },\n",
    "    hover_style={\n",
    "        'color': 'white', 'dashArray': '0', 'fillOpacity': 0.7\n",
    "    },\n",
    "    style_callback=random_color\n",
    ")\n",
    "\n",
    "def handle_click(**kwargs):\n",
    "    print(kwargs['feature']['properties']['name']) \n",
    "    \n",
    "geo_json.on_click(handle_click)\n",
    "m.add_layer(geo_json)\n",
    "\n",
    "m"
   ]
  },
  {
   "cell_type": "markdown",
   "id": "african-fault",
   "metadata": {},
   "source": [
    "## 2.7. Больше интерактива"
   ]
  },
  {
   "cell_type": "code",
   "execution_count": null,
   "id": "artificial-dividend",
   "metadata": {
    "scrolled": false
   },
   "outputs": [],
   "source": [
    "def load_data(url, filename, file_type):\n",
    "    r = requests.get(url)\n",
    "    with open(filename, 'w') as f:\n",
    "        f.write(r.content.decode(\"utf-8\"))\n",
    "    with open(filename, 'r') as f:\n",
    "        return file_type(f)\n",
    "\n",
    "data = load_data(\n",
    "    'https://raw.githubusercontent.com/tttdddnet/Python-Jupyter-Geo/main/geo_ru.json',\n",
    "    'geo_ru.json',\n",
    "     json.load)    \n",
    "\n",
    "def random_color(feature):\n",
    "    return {\n",
    "        'color': 'black',\n",
    "        'fillColor': random.choice(['red', 'yellow', '#efed69', '#fcba03', '#9900ff', '#00ff15', '#db2751', '#00ff95']),\n",
    "    }\n",
    "\n",
    "m = Map(center=(66.25, 94.15), zoom=3)\n",
    "\n",
    "geo_json = GeoJSON(\n",
    "    data=data,\n",
    "    style={\n",
    "        'opacity': 1, 'dashArray': '9', 'fillOpacity': 0.2, 'weight': 1\n",
    "    },\n",
    "    hover_style={\n",
    "        'color': 'white', 'dashArray': '0', 'fillOpacity': 0.7\n",
    "    },\n",
    "    style_callback=random_color\n",
    ")\n",
    "\n",
    "def handle_hover(**kwargs):\n",
    "    print(kwargs['feature']['properties']['name']) \n",
    "    \n",
    "geo_json.on_hover(handle_hover)\n",
    "m.add_layer(geo_json)\n",
    "\n",
    "m"
   ]
  },
  {
   "cell_type": "markdown",
   "id": "horizontal-invite",
   "metadata": {},
   "source": [
    "## 2.8. Хороплет-карта США по COVID"
   ]
  },
  {
   "cell_type": "code",
   "execution_count": null,
   "id": "modified-comedy",
   "metadata": {
    "scrolled": false
   },
   "outputs": [],
   "source": [
    "import ipyleaflet\n",
    "from ipywidgets import link, FloatSlider\n",
    "from branca.colormap import linear\n",
    "\n",
    "def load_data(url, filename, file_type):\n",
    "    r = requests.get(url)\n",
    "    with open(filename, 'w') as f:\n",
    "        f.write(r.content.decode(\"utf-8\"))\n",
    "    with open(filename, 'r') as f:\n",
    "        return file_type(f)\n",
    "\n",
    "geo_json_data = load_data(\n",
    "    'https://raw.githubusercontent.com/tttdddnet/Python-Jupyter-Geo/main/us-states_covid.json',\n",
    "    'us-states_covid.json',\n",
    "     json.load)\n",
    "\n",
    "confirmed = load_data(\n",
    "    'https://raw.githubusercontent.com/tttdddnet/Python-Jupyter-Geo/main/03-13-2021_covid.csv',\n",
    "    '03-13-2021_covid.csv',\n",
    "     pd.read_csv)\n",
    "\n",
    "confirmed =  dict(zip(confirmed['State'].tolist(), confirmed['Confirmed'].tolist()))\n",
    "\n",
    "layer = ipyleaflet.Choropleth(\n",
    "    geo_data=geo_json_data,\n",
    "    choro_data=confirmed,\n",
    "    colormap=linear.YlOrRd_04,\n",
    "    border_color='black',\n",
    "    style={'fillOpacity': 0.8, 'dashArray': '5, 5'})\n",
    "\n",
    "m = ipyleaflet.Map(center = (43,-100), zoom = 4)\n",
    "m.add_layer(layer)\n",
    "m"
   ]
  },
  {
   "cell_type": "markdown",
   "id": "unlimited-trader",
   "metadata": {},
   "source": [
    "# 3. Библиотека folium"
   ]
  },
  {
   "cell_type": "markdown",
   "id": "sound-assets",
   "metadata": {},
   "source": [
    "## 3.1. Установка folium"
   ]
  },
  {
   "cell_type": "code",
   "execution_count": null,
   "id": "equivalent-tension",
   "metadata": {},
   "outputs": [],
   "source": [
    "!pip install folium"
   ]
  },
  {
   "cell_type": "markdown",
   "id": "improving-start",
   "metadata": {},
   "source": [
    "## 3.2. Два слоя на одной карте"
   ]
  },
  {
   "cell_type": "code",
   "execution_count": null,
   "id": "excessive-funeral",
   "metadata": {
    "scrolled": true
   },
   "outputs": [],
   "source": [
    "import folium\n",
    "\n",
    "state_geo = \"https://raw.githubusercontent.com/tttdddnet/Python-Jupyter-Geo/main/us-states_covid.json\"\n",
    "covid_csv = \"https://raw.githubusercontent.com/tttdddnet/Python-Jupyter-Geo/main/03-13-2021_covid.csv\"\n",
    "state_data = pd.read_csv(covid_csv)\n",
    "\n",
    "m = folium.Map(location=[48, -102], zoom_start=3)\n",
    "\n",
    "folium.Choropleth(\n",
    "    geo_data=state_geo,\n",
    "    name=\"Подтвержденные случаи заражения\",\n",
    "    data=state_data,\n",
    "    columns=[\"State\", \"Confirmed\"],\n",
    "    key_on=\"feature.id\",\n",
    "    fill_color=\"YlOrBr\",\n",
    "    fill_opacity=0.7,\n",
    "    line_opacity=0.2,\n",
    "    legend_name=\"Подтвержденные случаи заражения\",\n",
    ").add_to(m)\n",
    "\n",
    "print()\n",
    "\n",
    "folium.Choropleth(\n",
    "    geo_data=state_geo,\n",
    "    name=\"Летальность\",\n",
    "    data=state_data,\n",
    "    columns=[\"State\", \"Case_Fatality_Ratio\"],\n",
    "    key_on=\"feature.id\",\n",
    "    fill_color=\"Reds\",\n",
    "    fill_opacity=0.7,\n",
    "    line_opacity=0.2,\n",
    "    legend_name=\"Летальность\",\n",
    "    show = False,  \n",
    ").add_to(m)\n",
    "\n",
    "folium.LayerControl().add_to(m)\n",
    "\n",
    "m"
   ]
  },
  {
   "cell_type": "markdown",
   "id": "shared-birth",
   "metadata": {},
   "source": [
    "## 3.3. Добавляем интерактив: всплывающий текст"
   ]
  },
  {
   "cell_type": "code",
   "execution_count": null,
   "id": "extended-logging",
   "metadata": {},
   "outputs": [],
   "source": [
    "state_geo = \"https://raw.githubusercontent.com/tttdddnet/Python-Jupyter-Geo/main/us-states_covid.json\"\n",
    "covid_csv = \"https://raw.githubusercontent.com/tttdddnet/Python-Jupyter-Geo/main/03-13-2021_covid.csv\"\n",
    "state_data = pd.read_csv(covid_csv)\n",
    "\n",
    "m = folium.Map(location=[48, -102], zoom_start=3)\n",
    "\n",
    "covid_map = folium.Choropleth(\n",
    "    geo_data=state_geo,\n",
    "    name=\"Подтвержденные случаи заражения\",\n",
    "    data=state_data,\n",
    "    columns=[\"State\", \"Confirmed\"],\n",
    "    key_on=\"feature.id\",\n",
    "    fill_color=\"YlOrBr\",\n",
    "    fill_opacity=0.7,\n",
    "    line_opacity=0.2,\n",
    "    legend_name=\"Подтвержденные случаи заражения\",\n",
    ").add_to(m)\n",
    "\n",
    "folium.LayerControl().add_to(m)\n",
    "\n",
    "covid_map.geojson.add_child(folium.features.GeoJsonTooltip(['name',], labels=False))\n",
    "\n",
    "m"
   ]
  },
  {
   "cell_type": "markdown",
   "id": "constant-caution",
   "metadata": {},
   "source": [
    "## 3.4. Две карты в одном окне"
   ]
  },
  {
   "cell_type": "code",
   "execution_count": null,
   "id": "super-emission",
   "metadata": {
    "scrolled": false
   },
   "outputs": [],
   "source": [
    "from folium import plugins\n",
    "\n",
    "m = plugins.DualMap(location=(59.93863, 30.31413), tiles=None, zoom_start=11)\n",
    "\n",
    "folium.TileLayer(\"openstreetmap\").add_to(m)\n",
    "folium.TileLayer(\"Stamen Terrain\").add_to(m.m1)\n",
    "folium.TileLayer(\"cartodbpositron\").add_to(m.m2)\n",
    "\n",
    "\n",
    "figure_both = folium.FeatureGroup(name=\"Метка на обеих картах\").add_to(m)\n",
    "figure_1 = folium.FeatureGroup(name=\"Метка слева\").add_to(m.m1)\n",
    "figure_2 = folium.FeatureGroup(name=\"Метка справа\").add_to(m.m2)\n",
    "\n",
    "icon_red = folium.Icon(color=\"green\")\n",
    "folium.Marker((59.93863, 30.31413), tooltip=\"Метка на обеих картах\", icon=icon_red).add_to(figure_both)\n",
    "folium.Marker((59.912563, 30.32413), tooltip=\"Метка слева\").add_to(figure_1)\n",
    "folium.Marker((59.93463, 30.38413), tooltip=\"Метка справа\").add_to(figure_2)\n",
    "\n",
    "folium.LayerControl(collapsed=False).add_to(m)\n",
    "\n",
    "m"
   ]
  },
  {
   "cell_type": "markdown",
   "id": "vanilla-southwest",
   "metadata": {},
   "source": [
    "## 3.5. Группируем маркеры"
   ]
  },
  {
   "cell_type": "code",
   "execution_count": null,
   "id": "alleged-forum",
   "metadata": {
    "scrolled": false
   },
   "outputs": [],
   "source": [
    "m = folium.Map(location=[59.93863, 30.31413], zoom_start=12)\n",
    "\n",
    "figure = folium.FeatureGroup(name=\"Все метки\")\n",
    "m.add_child(figure)\n",
    "\n",
    "group1 = plugins.FeatureGroupSubGroup(figure, \"Первая группа\")\n",
    "m.add_child(group1)\n",
    "\n",
    "group2 = plugins.FeatureGroupSubGroup(figure, \"Вторая группа\")\n",
    "m.add_child(group2)\n",
    "\n",
    "folium.Marker([59.93863, 30.31413]).add_to(group1)\n",
    "folium.Marker([59.95863, 30.31413]).add_to(group1)\n",
    "\n",
    "folium.Marker([59.94863, 30.32513]).add_to(group2)\n",
    "folium.Marker([59.91763, 30.31413]).add_to(group2)\n",
    "\n",
    "folium.LayerControl(collapsed=False).add_to(m)\n",
    "\n",
    "m"
   ]
  }
 ],
 "metadata": {
  "kernelspec": {
   "display_name": "Python 3",
   "language": "python",
   "name": "python3"
  },
  "language_info": {
   "codemirror_mode": {
    "name": "ipython",
    "version": 3
   },
   "file_extension": ".py",
   "mimetype": "text/x-python",
   "name": "python",
   "nbconvert_exporter": "python",
   "pygments_lexer": "ipython3",
   "version": "3.9.2"
  }
 },
 "nbformat": 4,
 "nbformat_minor": 5
}
