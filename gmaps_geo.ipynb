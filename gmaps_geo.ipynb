{
 "cells": [
  {
   "cell_type": "markdown",
   "id": "extreme-finder",
   "metadata": {},
   "source": [
    "## 1. Библиотека gmaps"
   ]
  },
  {
   "cell_type": "code",
   "execution_count": null,
   "id": "assured-partnership",
   "metadata": {
    "scrolled": true
   },
   "outputs": [],
   "source": [
    "!pip install gmaps\n",
    "!pip install pandas\n",
    "!pip install widgetsnbextension"
   ]
  },
  {
   "cell_type": "markdown",
   "id": "apparent-commercial",
   "metadata": {},
   "source": [
    "Активируем виджеты следующими командами:"
   ]
  },
  {
   "cell_type": "code",
   "execution_count": null,
   "id": "adaptive-imperial",
   "metadata": {
    "scrolled": false
   },
   "outputs": [],
   "source": [
    "!jupyter nbextension enable --py --sys-prefix widgetsnbextension\n",
    "!jupyter nbextension enable --py --sys-prefix gmaps\n"
   ]
  },
  {
   "cell_type": "markdown",
   "id": "threaded-shipping",
   "metadata": {},
   "source": [
    "## 1.1. Карта точек WiFi"
   ]
  },
  {
   "cell_type": "code",
   "execution_count": null,
   "id": "parliamentary-prompt",
   "metadata": {},
   "outputs": [],
   "source": [
    "import pandas as pd\n",
    "import gmaps"
   ]
  },
  {
   "cell_type": "code",
   "execution_count": null,
   "id": "occupied-december",
   "metadata": {},
   "outputs": [],
   "source": [
    "file_name = 'https://raw.githubusercontent.com/miroslav-kungurov/Python-Jupyter-Geo/main/data-9776-2020-12-21.csv'\n",
    "df = pd.read_csv(file_name, sep=';', encoding='cp1251')"
   ]
  },
  {
   "cell_type": "code",
   "execution_count": null,
   "id": "experienced-curtis",
   "metadata": {
    "scrolled": true
   },
   "outputs": [],
   "source": [
    "gmaps.configure(api_key='...')\n",
    "\n",
    "wifi_points = []\n",
    "i = 0\n",
    "while i < len(df.index):\n",
    "    wifi_points.append({'Coordinates': [df['Latitude_WGS84'][i], df['Longitude_WGS84'][i]], 'Location': df['Location'][i], 'NumberOfAccessPoints': df['NumberOfAccessPoints'][i]})\n",
    "    i += 1\n",
    "\n",
    "marker_coordinates = [wifi['Coordinates'] for wifi in wifi_points]\n",
    "marker_coordinates = [[float(x) for x in y] for y in marker_coordinates] # здесь мы проходимся по элементами вложенного списка и меняем их типы со str на float\n",
    "\n",
    "info_box_template = \"\"\"\n",
    "<dl>\n",
    "<dt>Адрес:</dt><dd>{Location}</dd>\n",
    "<dt>Количество точек доступа:</dt><dd>{NumberOfAccessPoints}</dd>\n",
    "</dl>\n",
    "\"\"\"\n",
    "\n",
    "marker_info  = [info_box_template.format(**points) for points in wifi_points]\n",
    "marker_layer = gmaps.marker_layer(marker_coordinates, info_box_content=marker_info )\n",
    "\n",
    "fig = gmaps.figure()\n",
    "fig.add_layer(marker_layer)\n",
    "fig"
   ]
  }
 ],
 "metadata": {
  "kernelspec": {
   "display_name": "Python 3",
   "language": "python",
   "name": "python3"
  },
  "language_info": {
   "codemirror_mode": {
    "name": "ipython",
    "version": 3
   },
   "file_extension": ".py",
   "mimetype": "text/x-python",
   "name": "python",
   "nbconvert_exporter": "python",
   "pygments_lexer": "ipython3",
   "version": "3.9.2"
  }
 },
 "nbformat": 4,
 "nbformat_minor": 5
}
